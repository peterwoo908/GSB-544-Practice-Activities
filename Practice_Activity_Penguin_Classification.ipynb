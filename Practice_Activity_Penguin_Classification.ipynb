{
  "cells": [
    {
      "cell_type": "raw",
      "metadata": {
        "vscode": {
          "languageId": "raw"
        }
      },
      "source": [
        "---\n",
        "title: PA 8.2\n",
        "author: Pete Woo\n",
        "embed-resources: true\n",
        "format:\n",
        "  html:\n",
        "    theme: cerulean\n",
        "    code-fold: true\n",
        "---"
      ]
    },
    {
      "cell_type": "markdown",
      "metadata": {
        "id": "TxbDFsJARAMD"
      },
      "source": [
        "# Palmer Penguins Modeling\n",
        "\n",
        "Import the Palmer Penguins dataset and print out the first few rows.\n",
        "\n",
        "Suppose we want to predict `species` using the other variables in the dataset.\n",
        "\n",
        "**Dummify** all variables that require this."
      ]
    },
    {
      "cell_type": "code",
      "execution_count": 55,
      "metadata": {
        "id": "QV2uolyOQ65C"
      },
      "outputs": [],
      "source": [
        "# Code Here\n",
        "\n",
        "from sklearn.neighbors import KNeighborsClassifier\n",
        "from sklearn.tree import DecisionTreeClassifier\n",
        "from sklearn.linear_model import LogisticRegression\n",
        "import numpy as np\n",
        "import pandas as pd\n",
        "import palmerpenguins\n",
        "from palmerpenguins import load_penguins\n",
        "from sklearn.pipeline import Pipeline\n",
        "from sklearn.compose import make_column_selector, ColumnTransformer\n",
        "from sklearn.preprocessing import StandardScaler, OneHotEncoder, PolynomialFeatures\n",
        "from sklearn.metrics import r2_score, mean_squared_error\n",
        "from sklearn.linear_model import LinearRegression, Ridge, Lasso, ElasticNet \n",
        "from sklearn.model_selection import train_test_split, cross_val_score, GridSearchCV\n",
        "from sklearn.metrics import roc_auc_score\n"
      ]
    },
    {
      "cell_type": "code",
      "execution_count": 56,
      "metadata": {},
      "outputs": [
        {
          "data": {
            "text/html": [
              "<div>\n",
              "<style scoped>\n",
              "    .dataframe tbody tr th:only-of-type {\n",
              "        vertical-align: middle;\n",
              "    }\n",
              "\n",
              "    .dataframe tbody tr th {\n",
              "        vertical-align: top;\n",
              "    }\n",
              "\n",
              "    .dataframe thead th {\n",
              "        text-align: right;\n",
              "    }\n",
              "</style>\n",
              "<table border=\"1\" class=\"dataframe\">\n",
              "  <thead>\n",
              "    <tr style=\"text-align: right;\">\n",
              "      <th></th>\n",
              "      <th>species</th>\n",
              "      <th>island</th>\n",
              "      <th>bill_length_mm</th>\n",
              "      <th>bill_depth_mm</th>\n",
              "      <th>flipper_length_mm</th>\n",
              "      <th>body_mass_g</th>\n",
              "      <th>sex</th>\n",
              "      <th>year</th>\n",
              "    </tr>\n",
              "  </thead>\n",
              "  <tbody>\n",
              "    <tr>\n",
              "      <th>0</th>\n",
              "      <td>Adelie</td>\n",
              "      <td>Torgersen</td>\n",
              "      <td>39.1</td>\n",
              "      <td>18.7</td>\n",
              "      <td>181.0</td>\n",
              "      <td>3750.0</td>\n",
              "      <td>male</td>\n",
              "      <td>2007</td>\n",
              "    </tr>\n",
              "    <tr>\n",
              "      <th>1</th>\n",
              "      <td>Adelie</td>\n",
              "      <td>Torgersen</td>\n",
              "      <td>39.5</td>\n",
              "      <td>17.4</td>\n",
              "      <td>186.0</td>\n",
              "      <td>3800.0</td>\n",
              "      <td>female</td>\n",
              "      <td>2007</td>\n",
              "    </tr>\n",
              "    <tr>\n",
              "      <th>2</th>\n",
              "      <td>Adelie</td>\n",
              "      <td>Torgersen</td>\n",
              "      <td>40.3</td>\n",
              "      <td>18.0</td>\n",
              "      <td>195.0</td>\n",
              "      <td>3250.0</td>\n",
              "      <td>female</td>\n",
              "      <td>2007</td>\n",
              "    </tr>\n",
              "    <tr>\n",
              "      <th>4</th>\n",
              "      <td>Adelie</td>\n",
              "      <td>Torgersen</td>\n",
              "      <td>36.7</td>\n",
              "      <td>19.3</td>\n",
              "      <td>193.0</td>\n",
              "      <td>3450.0</td>\n",
              "      <td>female</td>\n",
              "      <td>2007</td>\n",
              "    </tr>\n",
              "    <tr>\n",
              "      <th>5</th>\n",
              "      <td>Adelie</td>\n",
              "      <td>Torgersen</td>\n",
              "      <td>39.3</td>\n",
              "      <td>20.6</td>\n",
              "      <td>190.0</td>\n",
              "      <td>3650.0</td>\n",
              "      <td>male</td>\n",
              "      <td>2007</td>\n",
              "    </tr>\n",
              "  </tbody>\n",
              "</table>\n",
              "</div>"
            ],
            "text/plain": [
              "  species     island  bill_length_mm  ...  body_mass_g     sex  year\n",
              "0  Adelie  Torgersen            39.1  ...       3750.0    male  2007\n",
              "1  Adelie  Torgersen            39.5  ...       3800.0  female  2007\n",
              "2  Adelie  Torgersen            40.3  ...       3250.0  female  2007\n",
              "4  Adelie  Torgersen            36.7  ...       3450.0  female  2007\n",
              "5  Adelie  Torgersen            39.3  ...       3650.0    male  2007\n",
              "\n",
              "[5 rows x 8 columns]"
            ]
          },
          "execution_count": null,
          "metadata": {},
          "output_type": "execute_result"
        }
      ],
      "source": [
        "df = load_penguins()\n",
        "df = df.dropna()\n",
        "df.head()"
      ]
    },
    {
      "cell_type": "code",
      "execution_count": 57,
      "metadata": {},
      "outputs": [
        {
          "data": {
            "text/plain": [
              "species\n",
              "Adelie       146\n",
              "Gentoo       119\n",
              "Chinstrap     68\n",
              "Name: count, dtype: int64"
            ]
          },
          "execution_count": null,
          "metadata": {},
          "output_type": "execute_result"
        }
      ],
      "source": [
        "df[\"species\"].value_counts()"
      ]
    },
    {
      "cell_type": "code",
      "execution_count": 58,
      "metadata": {},
      "outputs": [
        {
          "data": {
            "text/html": [
              "<div>\n",
              "<style scoped>\n",
              "    .dataframe tbody tr th:only-of-type {\n",
              "        vertical-align: middle;\n",
              "    }\n",
              "\n",
              "    .dataframe tbody tr th {\n",
              "        vertical-align: top;\n",
              "    }\n",
              "\n",
              "    .dataframe thead th {\n",
              "        text-align: right;\n",
              "    }\n",
              "</style>\n",
              "<table border=\"1\" class=\"dataframe\">\n",
              "  <thead>\n",
              "    <tr style=\"text-align: right;\">\n",
              "      <th></th>\n",
              "      <th>dummify__island_Biscoe</th>\n",
              "      <th>dummify__island_Dream</th>\n",
              "      <th>dummify__island_Torgersen</th>\n",
              "      <th>dummify__sex_female</th>\n",
              "      <th>dummify__sex_male</th>\n",
              "      <th>dummify__year_2007</th>\n",
              "      <th>dummify__year_2008</th>\n",
              "      <th>dummify__year_2009</th>\n",
              "      <th>standardize__bill_depth_mm</th>\n",
              "      <th>standardize__bill_length_mm</th>\n",
              "      <th>standardize__flipper_length_mm</th>\n",
              "      <th>standardize__body_mass_g</th>\n",
              "    </tr>\n",
              "  </thead>\n",
              "  <tbody>\n",
              "    <tr>\n",
              "      <th>0</th>\n",
              "      <td>0.0</td>\n",
              "      <td>0.0</td>\n",
              "      <td>1.0</td>\n",
              "      <td>0.0</td>\n",
              "      <td>1.0</td>\n",
              "      <td>1.0</td>\n",
              "      <td>0.0</td>\n",
              "      <td>0.0</td>\n",
              "      <td>0.780732</td>\n",
              "      <td>-0.896042</td>\n",
              "      <td>-1.426752</td>\n",
              "      <td>-0.568475</td>\n",
              "    </tr>\n",
              "    <tr>\n",
              "      <th>1</th>\n",
              "      <td>0.0</td>\n",
              "      <td>0.0</td>\n",
              "      <td>1.0</td>\n",
              "      <td>1.0</td>\n",
              "      <td>0.0</td>\n",
              "      <td>1.0</td>\n",
              "      <td>0.0</td>\n",
              "      <td>0.0</td>\n",
              "      <td>0.119584</td>\n",
              "      <td>-0.822788</td>\n",
              "      <td>-1.069474</td>\n",
              "      <td>-0.506286</td>\n",
              "    </tr>\n",
              "    <tr>\n",
              "      <th>2</th>\n",
              "      <td>0.0</td>\n",
              "      <td>0.0</td>\n",
              "      <td>1.0</td>\n",
              "      <td>1.0</td>\n",
              "      <td>0.0</td>\n",
              "      <td>1.0</td>\n",
              "      <td>0.0</td>\n",
              "      <td>0.0</td>\n",
              "      <td>0.424729</td>\n",
              "      <td>-0.676280</td>\n",
              "      <td>-0.426373</td>\n",
              "      <td>-1.190361</td>\n",
              "    </tr>\n",
              "    <tr>\n",
              "      <th>4</th>\n",
              "      <td>0.0</td>\n",
              "      <td>0.0</td>\n",
              "      <td>1.0</td>\n",
              "      <td>1.0</td>\n",
              "      <td>0.0</td>\n",
              "      <td>1.0</td>\n",
              "      <td>0.0</td>\n",
              "      <td>0.0</td>\n",
              "      <td>1.085877</td>\n",
              "      <td>-1.335566</td>\n",
              "      <td>-0.569284</td>\n",
              "      <td>-0.941606</td>\n",
              "    </tr>\n",
              "    <tr>\n",
              "      <th>5</th>\n",
              "      <td>0.0</td>\n",
              "      <td>0.0</td>\n",
              "      <td>1.0</td>\n",
              "      <td>0.0</td>\n",
              "      <td>1.0</td>\n",
              "      <td>1.0</td>\n",
              "      <td>0.0</td>\n",
              "      <td>0.0</td>\n",
              "      <td>1.747026</td>\n",
              "      <td>-0.859415</td>\n",
              "      <td>-0.783651</td>\n",
              "      <td>-0.692852</td>\n",
              "    </tr>\n",
              "  </tbody>\n",
              "</table>\n",
              "</div>"
            ],
            "text/plain": [
              "   dummify__island_Biscoe  ...  standardize__body_mass_g\n",
              "0                     0.0  ...                 -0.568475\n",
              "1                     0.0  ...                 -0.506286\n",
              "2                     0.0  ...                 -1.190361\n",
              "4                     0.0  ...                 -0.941606\n",
              "5                     0.0  ...                 -0.692852\n",
              "\n",
              "[5 rows x 12 columns]"
            ]
          },
          "execution_count": null,
          "metadata": {},
          "output_type": "execute_result"
        }
      ],
      "source": [
        "df['year'] = df['year'].astype('object')\n",
        "X = df[['bill_depth_mm', 'island', 'bill_length_mm',\n",
        "       'flipper_length_mm', 'body_mass_g', 'sex', 'year']]\n",
        "y = df['species']\n",
        "\n",
        "ct = ColumnTransformer(\n",
        "  [\n",
        "    (\"dummify\", \n",
        "    OneHotEncoder(sparse_output = False, handle_unknown='ignore'),\n",
        "    make_column_selector(dtype_include=object)),\n",
        "    (\"standardize\", \n",
        "    StandardScaler(), \n",
        "    make_column_selector(dtype_include=np.number))\n",
        "  ],\n",
        "  remainder = \"passthrough\"\n",
        ").set_output(transform = \"pandas\")\n",
        "\n",
        "ct.fit_transform(X).head()"
      ]
    },
    {
      "cell_type": "markdown",
      "metadata": {},
      "source": [
        "# KNN"
      ]
    },
    {
      "cell_type": "markdown",
      "metadata": {},
      "source": [
        "## N = 3"
      ]
    },
    {
      "cell_type": "code",
      "execution_count": 59,
      "metadata": {},
      "outputs": [
        {
          "name": "stdout",
          "output_type": "stream",
          "text": [
            "Metrics for k=3:\n",
            "Confusion Matrix:\n",
            "[[37  0  0]\n",
            " [ 2 15  0]\n",
            " [ 0  0 30]]\n",
            "Accuracy: 0.976\n",
            "Precision: 0.977\n",
            "Recall: 0.976\n",
            "F1 Score: 0.976\n",
            "AUC: 1.000\n",
            "Metrics for k=3:\n",
            "Confusion Matrix:\n",
            "[[37  0  0]\n",
            " [ 2 15  0]\n",
            " [ 0  0 30]]\n",
            "Accuracy: 0.976\n",
            "Precision: 0.977\n",
            "Recall: 0.976\n",
            "F1 Score: 0.976\n",
            "AUC: 1.000\n"
          ]
        }
      ],
      "source": [
        "from sklearn.metrics import confusion_matrix, accuracy_score, precision_score, recall_score, roc_auc_score, f1_score\n",
        "\n",
        "X_train, X_test, y_train, y_test = train_test_split(X, y, test_size=0.25, stratify=y, random_state = 100)\n",
        "\n",
        "knn_pipeline = Pipeline([\n",
        "    (\"preprocessing\", ct),\n",
        "    (\"knn\", KNeighborsClassifier(n_neighbors=3))\n",
        "])\n",
        "\n",
        "knn_pipeline.fit(X_train, y_train)\n",
        "\n",
        "y_pred = knn_pipeline.predict(X_test)\n",
        "y_proba = knn_pipeline.predict_proba(X_test)[:, 1] if len(set(y)) == 2 else None  \n",
        "\n",
        "conf_matrix = confusion_matrix(y_test, y_pred)\n",
        "accuracy = accuracy_score(y_test, y_pred)\n",
        "precision = precision_score(y_test, y_pred, average='binary' if len(set(y)) == 2 else 'weighted')\n",
        "recall = recall_score(y_test, y_pred, average='binary' if len(set(y)) == 2 else 'weighted')\n",
        "f1 = f1_score(y_test, y_pred, average='binary' if len(set(y)) == 2 else 'weighted')\n",
        "auc = roc_auc_score(y_test, y_proba) if y_proba is not None else None\n",
        "\n",
        "print(f\"Metrics for k=3:\")\n",
        "print(f\"Confusion Matrix:\\n{conf_matrix}\")\n",
        "print(f\"Accuracy: {accuracy:.3f}\")\n",
        "print(f\"Precision: {precision:.3f}\")\n",
        "print(f\"Recall: {recall:.3f}\")\n",
        "print(f\"F1 Score: {f1:.3f}\")\n",
        "if len(set(y)) > 2:  \n",
        "    auc = roc_auc_score(y_test, knn_pipeline.predict_proba(X_test), multi_class='ovr')\n",
        "else:  \n",
        "    auc = roc_auc_score(y_test, y_proba)\n",
        "\n",
        "if auc is not None:\n",
        "    print(f\"AUC: {auc:.3f}\")\n"
      ]
    },
    {
      "cell_type": "markdown",
      "metadata": {},
      "source": [
        "## N = 5"
      ]
    },
    {
      "cell_type": "code",
      "execution_count": 60,
      "metadata": {},
      "outputs": [
        {
          "name": "stdout",
          "output_type": "stream",
          "text": [
            "Metrics for k=3:\n",
            "Confusion Matrix:\n",
            "[[37  0  0]\n",
            " [ 0 17  0]\n",
            " [ 0  0 30]]\n",
            "Accuracy: 1.000\n",
            "Precision: 1.000\n",
            "Recall: 1.000\n",
            "F1 Score: 1.000\n",
            "AUC: 1.000\n",
            "Metrics for k=3:\n",
            "Confusion Matrix:\n",
            "[[37  0  0]\n",
            " [ 0 17  0]\n",
            " [ 0  0 30]]\n",
            "Accuracy: 1.000\n",
            "Precision: 1.000\n",
            "Recall: 1.000\n",
            "F1 Score: 1.000\n",
            "AUC: 1.000\n"
          ]
        }
      ],
      "source": [
        "knn_pipeline = Pipeline([\n",
        "    (\"preprocessing\", ct),\n",
        "    (\"knn\", KNeighborsClassifier(n_neighbors=5))\n",
        "])\n",
        "\n",
        "knn_pipeline.fit(X_train, y_train)\n",
        "\n",
        "y_pred = knn_pipeline.predict(X_test)\n",
        "y_proba = knn_pipeline.predict_proba(X_test)[:, 1] if len(set(y)) == 2 else None  \n",
        "\n",
        "conf_matrix = confusion_matrix(y_test, y_pred)\n",
        "accuracy = accuracy_score(y_test, y_pred)\n",
        "precision = precision_score(y_test, y_pred, average='binary' if len(set(y)) == 2 else 'weighted')\n",
        "recall = recall_score(y_test, y_pred, average='binary' if len(set(y)) == 2 else 'weighted')\n",
        "f1 = f1_score(y_test, y_pred, average='binary' if len(set(y)) == 2 else 'weighted')\n",
        "auc = roc_auc_score(y_test, y_proba) if y_proba is not None else None\n",
        "\n",
        "print(f\"Metrics for k=3:\")\n",
        "print(f\"Confusion Matrix:\\n{conf_matrix}\")\n",
        "print(f\"Accuracy: {accuracy:.3f}\")\n",
        "print(f\"Precision: {precision:.3f}\")\n",
        "print(f\"Recall: {recall:.3f}\")\n",
        "print(f\"F1 Score: {f1:.3f}\")\n",
        "if len(set(y)) > 2:  \n",
        "    auc = roc_auc_score(y_test, knn_pipeline.predict_proba(X_test), multi_class='ovr')\n",
        "else:  \n",
        "    auc = roc_auc_score(y_test, y_proba)\n",
        "\n",
        "if auc is not None:\n",
        "    print(f\"AUC: {auc:.3f}\")\n",
        "\n"
      ]
    },
    {
      "cell_type": "markdown",
      "metadata": {},
      "source": [
        "# Decision Tree"
      ]
    },
    {
      "cell_type": "code",
      "execution_count": 61,
      "metadata": {},
      "outputs": [
        {
          "name": "stdout",
          "output_type": "stream",
          "text": [
            "Metrics for Decision Tree with min_samples_leaf=20:\n",
            "Confusion Matrix:\n",
            "[[32  4  1]\n",
            " [ 3 13  1]\n",
            " [ 0  1 29]]\n",
            "Accuracy: 0.881\n",
            "Precision: 0.883\n",
            "Recall: 0.881\n",
            "F1 Score: 0.881\n",
            "AUC: 0.944\n",
            "Metrics for Decision Tree with min_samples_leaf=20:\n",
            "Confusion Matrix:\n",
            "[[32  4  1]\n",
            " [ 3 13  1]\n",
            " [ 0  1 29]]\n",
            "Accuracy: 0.881\n",
            "Precision: 0.883\n",
            "Recall: 0.881\n",
            "F1 Score: 0.881\n",
            "AUC: 0.944\n"
          ]
        }
      ],
      "source": [
        "decision_tree_pipeline = Pipeline([\n",
        "    (\"preprocessing\", ct),\n",
        "    (\"decision_tree\", DecisionTreeClassifier(min_samples_leaf=20, random_state=42))\n",
        "])\n",
        "\n",
        "decision_tree_pipeline.fit(X_train, y_train)\n",
        "\n",
        "y_pred = decision_tree_pipeline.predict(X_test)\n",
        "y_proba = decision_tree_pipeline.predict_proba(X_test)[:, 1] if len(set(y)) == 2 else None  # Only calculate AUC for binary classification\n",
        "\n",
        "conf_matrix = confusion_matrix(y_test, y_pred)\n",
        "accuracy = accuracy_score(y_test, y_pred)\n",
        "precision = precision_score(y_test, y_pred, average='binary' if len(set(y)) == 2 else 'weighted')\n",
        "recall = recall_score(y_test, y_pred, average='binary' if len(set(y)) == 2 else 'weighted')\n",
        "f1 = f1_score(y_test, y_pred, average='binary' if len(set(y)) == 2 else 'weighted')\n",
        "auc = roc_auc_score(y_test, y_proba) if y_proba is not None else None\n",
        "\n",
        "print(f\"Metrics for Decision Tree with min_samples_leaf=20:\")\n",
        "print(f\"Confusion Matrix:\\n{conf_matrix}\")\n",
        "print(f\"Accuracy: {accuracy:.3f}\")\n",
        "print(f\"Precision: {precision:.3f}\")\n",
        "print(f\"Recall: {recall:.3f}\")\n",
        "print(f\"F1 Score: {f1:.3f}\")\n",
        "if len(set(y)) > 2:  \n",
        "    auc = roc_auc_score(y_test, decision_tree_pipeline.predict_proba(X_test), multi_class='ovr')\n",
        "else:  \n",
        "    auc = roc_auc_score(y_test, y_proba)\n",
        "\n",
        "if auc is not None:\n",
        "    print(f\"AUC: {auc:.3f}\")\n"
      ]
    },
    {
      "cell_type": "code",
      "execution_count": 62,
      "metadata": {},
      "outputs": [
        {
          "name": "stdout",
          "output_type": "stream",
          "text": [
            "Metrics for Decision Tree with min_samples_leaf=20:\n",
            "Confusion Matrix:\n",
            "[[32  5  0]\n",
            " [ 3 14  0]\n",
            " [ 0  1 29]]\n",
            "Accuracy: 0.893\n",
            "Precision: 0.902\n",
            "Recall: 0.893\n",
            "F1 Score: 0.896\n",
            "AUC: 0.942\n",
            "Metrics for Decision Tree with min_samples_leaf=20:\n",
            "Confusion Matrix:\n",
            "[[32  5  0]\n",
            " [ 3 14  0]\n",
            " [ 0  1 29]]\n",
            "Accuracy: 0.893\n",
            "Precision: 0.902\n",
            "Recall: 0.893\n",
            "F1 Score: 0.896\n",
            "AUC: 0.942\n"
          ]
        }
      ],
      "source": [
        "decision_tree_pipeline = Pipeline([\n",
        "    (\"preprocessing\", ct),\n",
        "    (\"decision_tree\", DecisionTreeClassifier(min_samples_leaf=5, random_state=42))\n",
        "])\n",
        "\n",
        "decision_tree_pipeline.fit(X_train, y_train)\n",
        "\n",
        "y_pred = decision_tree_pipeline.predict(X_test)\n",
        "y_proba = decision_tree_pipeline.predict_proba(X_test)[:, 1] if len(set(y)) == 2 else None  # Only calculate AUC for binary classification\n",
        "\n",
        "conf_matrix = confusion_matrix(y_test, y_pred)\n",
        "accuracy = accuracy_score(y_test, y_pred)\n",
        "precision = precision_score(y_test, y_pred, average='binary' if len(set(y)) == 2 else 'weighted')\n",
        "recall = recall_score(y_test, y_pred, average='binary' if len(set(y)) == 2 else 'weighted')\n",
        "f1 = f1_score(y_test, y_pred, average='binary' if len(set(y)) == 2 else 'weighted')\n",
        "auc = roc_auc_score(y_test, y_proba) if y_proba is not None else None\n",
        "\n",
        "print(f\"Metrics for Decision Tree with min_samples_leaf=20:\")\n",
        "print(f\"Confusion Matrix:\\n{conf_matrix}\")\n",
        "print(f\"Accuracy: {accuracy:.3f}\")\n",
        "print(f\"Precision: {precision:.3f}\")\n",
        "print(f\"Recall: {recall:.3f}\")\n",
        "print(f\"F1 Score: {f1:.3f}\")\n",
        "if len(set(y)) > 2:  \n",
        "    auc = roc_auc_score(y_test, decision_tree_pipeline.predict_proba(X_test), multi_class='ovr')\n",
        "else:  \n",
        "    auc = roc_auc_score(y_test, y_proba)\n",
        "\n",
        "if auc is not None:\n",
        "    print(f\"AUC: {auc:.3f}\")\n"
      ]
    },
    {
      "cell_type": "code",
      "execution_count": 63,
      "metadata": {},
      "outputs": [
        {
          "data": {
            "image/png": "[encoded data removed]"
          },
          "metadata": {},
          "output_type": "display_data"
        }
      ],
      "source": [
        "from sklearn.metrics import roc_curve, auc\n",
        "from plotnine import ggplot, aes, geom_line, labs, theme, element_text\n",
        "\n",
        "y_train_binary = (y_train == \"Gentoo\").astype(int)\n",
        "y_test_binary = (y_test == \"Gentoo\").astype(int)\n",
        "\n",
        "decision_tree_pipeline.fit(X_train, y_train_binary)\n",
        "y_proba_binary = decision_tree_pipeline.predict_proba(X_test)[:, 1]\n",
        "\n",
        "fpr, tpr, thresholds = roc_curve(y_test_binary, y_proba_binary)\n",
        "roc_auc = auc(fpr, tpr)\n",
        "\n",
        "roc_df = pd.DataFrame({\n",
        "    \"fpr\": fpr,\n",
        "    \"tpr\": tpr\n",
        "})\n",
        "\n",
        "(\n",
        "    ggplot(roc_df, aes(x=\"fpr\", y=\"tpr\")) +\n",
        "    geom_line(color=\"blue\", size=1.5) +\n",
        "    labs(\n",
        "        title=f\"ROC Curve for 'Gentoo' (AUC = {roc_auc:.3f})\",\n",
        "        x=\"False Positive Rate (FPR)\",\n",
        "        y=\"True Positive Rate (TPR)\"\n",
        "    ) +\n",
        "    theme(\n",
        "        axis_title=element_text(size=12),\n",
        "        plot_title=element_text(size=14, face=\"bold\")\n",
        "    )\n",
        ")\n"
      ]
    },
    {
      "cell_type": "markdown",
      "metadata": {
        "id": "HecNBVAnRHod"
      },
      "source": [
        "Let's use the other variables to predict `species`. Prepare your data and fit the following models on the entire dataset:\n",
        "\n",
        "* Two kNN models (for different values of K)\n",
        "* Two decision tree models (for different complexities of trees)\n",
        "\n",
        "Compute the following, for each of your models, on test data. Keep in mind that you may need to stratify your creation of the training and test data.\n",
        "\n",
        "* Confusion matrix\n",
        "* Overall Accuracy\n",
        "* Precision, Recall, AUC, and F1-score for each species\n",
        "\n",
        "Create one ROC plot for the species of your choice."
      ]
    },
    {
      "cell_type": "code",
      "execution_count": 64,
      "metadata": {
        "id": "U1onRGJQR8T_"
      },
      "outputs": [],
      "source": [
        "# Code Here"
      ]
    }
  ],
  "metadata": {
    "colab": {
      "provenance": []
    },
    "kernelspec": {
      "display_name": "Python 3",
      "name": "python3"
    },
    "language_info": {
      "name": "python"
    }
  },
  "nbformat": 4,
  "nbformat_minor": 0
}
